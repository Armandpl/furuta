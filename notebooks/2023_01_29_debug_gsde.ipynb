{
 "cells": [
  {
   "cell_type": "code",
   "execution_count": null,
   "metadata": {},
   "outputs": [],
   "source": [
    "from sbx import SAC as SAC_SBX\n",
    "from stable_baselines3 import SAC as SAC_SB3\n",
    "import matplotlib.pyplot as plt\n",
    "import gymnasium as gym\n",
    "from furuta.rl.envs.furuta_sim import FurutaSim\n",
    "from gymnasium.wrappers import TimeLimit\n",
    "\n",
    "class ActionLogger(gym.Wrapper):\n",
    "    def __init__(self, env):\n",
    "        super().__init__(env)\n",
    "        self.actions = []\n",
    "    def step(self, action):\n",
    "        self.actions.append(action)\n",
    "        return self.env.step(action)\n",
    "    def plot_act(self):\n",
    "        plt.plot(self.actions[-100:])\n",
    "        plt.show()\n",
    "\n",
    "env = TimeLimit(ActionLogger(FurutaSim(speed_limits=[400, 400])), max_episode_steps=100)\n",
    "\n",
    "model = SAC_SB3(\"MlpPolicy\", env, verbose=1, use_sde=True, use_sde_at_warmup=True, learning_starts=500)\n",
    "model.learn(total_timesteps=1000, log_interval=4)\n",
    "\n",
    "env.plot_act()"
   ]
  },
  {
   "cell_type": "code",
   "execution_count": null,
   "metadata": {},
   "outputs": [],
   "source": [
    "model = SAC_SB3(\"MlpPolicy\", env, verbose=1, use_sde=True, use_sde_at_warmup=True, learning_starts=500, train_freq=(1, \"episode\"))\n",
    "model.learn(total_timesteps=1000, log_interval=4)\n",
    "\n",
    "env.plot_act()"
   ]
  },
  {
   "cell_type": "code",
   "execution_count": null,
   "metadata": {},
   "outputs": [],
   "source": [
    "model = SAC_SBX(\"MlpPolicy\", env, verbose=1, use_sde=True, use_sde_at_warmup=True, learning_starts=500)\n",
    "model.learn(total_timesteps=1000, log_interval=4)\n",
    "\n",
    "env.plot_act()"
   ]
  },
  {
   "cell_type": "code",
   "execution_count": null,
   "metadata": {},
   "outputs": [],
   "source": [
    "from sbx import TQC\n",
    "\n",
    "model = TQC(\"MlpPolicy\", env, verbose=1, use_sde=True, use_sde_at_warmup=True, learning_starts=500, train_freq=(1, \"episode\"))\n",
    "model.learn(total_timesteps=1000, log_interval=4)\n",
    "\n",
    "env.plot_act()"
   ]
  }
 ],
 "metadata": {
  "kernelspec": {
   "display_name": ".venv",
   "language": "python",
   "name": "python3"
  },
  "language_info": {
   "codemirror_mode": {
    "name": "ipython",
    "version": 3
   },
   "file_extension": ".py",
   "mimetype": "text/x-python",
   "name": "python",
   "nbconvert_exporter": "python",
   "pygments_lexer": "ipython3",
   "version": "3.11.5"
  }
 },
 "nbformat": 4,
 "nbformat_minor": 2
}

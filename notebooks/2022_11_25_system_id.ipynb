{
 "cells": [
  {
   "cell_type": "markdown",
   "metadata": {},
   "source": [
    "## 1. Check if the model is differentiable"
   ]
  },
  {
   "cell_type": "code",
   "execution_count": 8,
   "metadata": {},
   "outputs": [],
   "source": [
    "import torch\n",
    "from torch.nn.parameter import Parameter\n",
    "\n",
    "class QubeDynamics(torch.nn.Module):\n",
    "    \"\"\"Solve equation M qdd + C(q, qd) = tau for qdd.\"\"\"\n",
    "\n",
    "    def __init__(self):\n",
    "        super().__init__()\n",
    "        # Gravity\n",
    "        self.g = Parameter(data=torch.Tensor([9.81]), requires_grad=True)\n",
    "\n",
    "        # Motor\n",
    "        self.Rm = Parameter(data=torch.Tensor([8.4]), requires_grad=True)\n",
    "\n",
    "        # back-emf constant (V-s/rad)\n",
    "        self.km = Parameter(data=torch.Tensor([0.042]), requires_grad=True)\n",
    "\n",
    "        # Rotary arm\n",
    "        self.Mr = Parameter(data=torch.Tensor([0.095]), requires_grad=True)\n",
    "        self.Lr = Parameter(data=torch.Tensor([0.085]), requires_grad=True)\n",
    "        self.Dr = Parameter(data=torch.Tensor([5e-6]), requires_grad=True)\n",
    "\n",
    "        # Pendulum link\n",
    "        self.Mp = Parameter(data=torch.Tensor([0.024]), requires_grad=True)\n",
    "        self.Lp = Parameter(data=torch.Tensor([0.129]), requires_grad=True)\n",
    "        self.Dp = Parameter(data=torch.Tensor([1e-6]), requires_grad=True)\n",
    "\n",
    "        # Init constants\n",
    "        self._init_const()\n",
    "\n",
    "    def _init_const(self):\n",
    "        # Moments of inertia\n",
    "        Jr = self.Mr * self.Lr ** 2 / 12  # inertia about COM (kg-m^2)\n",
    "        Jp = self.Mp * self.Lp ** 2 / 12  # inertia about COM (kg-m^2)\n",
    "\n",
    "        # Constants for equations of motion\n",
    "        self._c = torch.zeros(5)\n",
    "        self._c[0] = Jr + self.Mp * self.Lr ** 2\n",
    "        self._c[1] = 0.25 * self.Mp * self.Lp ** 2\n",
    "        self._c[2] = 0.5 * self.Mp * self.Lp * self.Lr\n",
    "        self._c[3] = Jp + self._c[1]\n",
    "        self._c[4] = 0.5 * self.Mp * self.Lp * self.g\n",
    "\n",
    "\n",
    "    def forward(self, s, u):\n",
    "        th, al, thd, ald = s\n",
    "        voltage = u[0]\n",
    "\n",
    "        # Define mass matrix M = [[a, b], [b, c]]\n",
    "        a = self._c[0] + self._c[1] * torch.sin(al) ** 2\n",
    "        b = self._c[2] * torch.cos(al)\n",
    "        c = self._c[3]\n",
    "        d = a * c - b * b\n",
    "\n",
    "        # Calculate vector [x, y] = tau - C(q, qd)\n",
    "        trq = self.km * (voltage - self.km * thd) / self.Rm\n",
    "        c0 = self._c[1] * torch.sin(2 * al) * thd * ald \\\n",
    "            - self._c[2] * torch.sin(al) * ald * ald\n",
    "        c1 = -0.5 * self._c[1] * torch.sin(2 * al) * thd * thd \\\n",
    "            + self._c[4] * torch.sin(al)\n",
    "        x = trq - self.Dr * thd - c0\n",
    "        y = -self.Dp * ald - c1\n",
    "\n",
    "        # Compute M^{-1} @ [x, y]\n",
    "        thdd = (c * x - b * y) / d\n",
    "        aldd = (a * y - b * x) / d\n",
    "\n",
    "        return torch.Tensor([thdd, aldd])"
   ]
  },
  {
   "cell_type": "code",
   "execution_count": 20,
   "metadata": {},
   "outputs": [
    {
     "name": "stdout",
     "output_type": "stream",
     "text": [
      "tensor(1., grad_fn=<MseLossBackward0>)\n"
     ]
    }
   ],
   "source": [
    "model = QubeDynamics()\n",
    "initial_state = torch.Tensor([0.0, 0.0, 0.0, 0.0])\n",
    "\n",
    "# run model\n",
    "thdd, aldd = model(initial_state, torch.Tensor([0.0]))\n",
    "\n",
    "# update state\n",
    "dt = 0.02\n",
    "next_state = torch.clone(initial_state)\n",
    "next_state[3] += (dt * aldd)[0]\n",
    "next_state[2] += (dt * thdd)[0]\n",
    "next_state[1] += dt * next_state[3]\n",
    "next_state[0] += dt * next_state[2]\n",
    "\n",
    "real_next_state = torch.Tensor([1.0, 1.0, 1.0, 1.0]) # dummy values\n",
    "\n",
    "loss = torch.nn.functional.mse_loss(next_state, real_next_state)\n",
    "print(loss)\n",
    "loss.backward()"
   ]
  }
 ],
 "metadata": {
  "kernelspec": {
   "display_name": "Python 3.8.11 ('furuta')",
   "language": "python",
   "name": "python3"
  },
  "language_info": {
   "codemirror_mode": {
    "name": "ipython",
    "version": 3
   },
   "file_extension": ".py",
   "mimetype": "text/x-python",
   "name": "python",
   "nbconvert_exporter": "python",
   "pygments_lexer": "ipython3",
   "version": "3.8.11"
  },
  "orig_nbformat": 4,
  "vscode": {
   "interpreter": {
    "hash": "951a8142a6b321a3a3ccfa39cde286cae4f976f21f3127da7dcf2ae2128da797"
   }
  }
 },
 "nbformat": 4,
 "nbformat_minor": 2
}

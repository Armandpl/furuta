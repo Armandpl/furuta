{
 "cells": [
  {
   "cell_type": "code",
   "execution_count": null,
   "metadata": {},
   "outputs": [],
   "source": [
    "# depending how I init the sim state space, the training can succeed or fail\n",
    "# in some cases it seems to do the same set of action again and again\n",
    "# + the episode last 1 step, see this run https://wandb.ai/armandpl/furuta/runs/28d2wrqh?workspace=user-armandpl\n",
    "\n",
    "# this works:\n",
    "self._state = 0.01 * np.float32(np.random.randn(self.state_space.shape[0]))\n",
    "\n",
    "# but this doesn't:\n",
    "self._state = 0.01 * np.random.randn(self.state_space.shape[0])\n",
    "\n",
    "# this doesn't seem to work either\n",
    "self._state = np.random.rand(4)\n",
    "\n",
    "# nor this\n",
    "self._state = np.zeros(4)\n",
    "\n",
    "# this works but not well\n",
    "self._state = self.state_space.sample()"
   ]
  }
 ],
 "metadata": {
  "kernelspec": {
   "display_name": "Python 3.8.15 ('furuta')",
   "language": "python",
   "name": "python3"
  },
  "language_info": {
   "name": "python",
   "version": "3.8.15"
  },
  "orig_nbformat": 4,
  "vscode": {
   "interpreter": {
    "hash": "1cef6fcee685a48db63fc30690bce58bffef9adc061320bb0eca4c2134150ecc"
   }
  }
 },
 "nbformat": 4,
 "nbformat_minor": 2
}

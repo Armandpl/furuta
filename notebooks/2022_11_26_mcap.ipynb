{
 "cells": [
  {
   "cell_type": "code",
   "execution_count": 2,
   "metadata": {},
   "outputs": [],
   "source": [
    "import sys\n",
    "from mcap_protobuf.writer import Writer\n",
    "\n",
    "from furuta_gym.logging.protobuf.pendulum_state_pb2 import PendulumState"
   ]
  }
 ],
 "metadata": {
  "kernelspec": {
   "display_name": "Python 3.8.10 64-bit ('3.8.10')",
   "language": "python",
   "name": "python3"
  },
  "language_info": {
   "codemirror_mode": {
    "name": "ipython",
    "version": 3
   },
   "file_extension": ".py",
   "mimetype": "text/x-python",
   "name": "python",
   "nbconvert_exporter": "python",
   "pygments_lexer": "ipython3",
   "version": "3.8.10"
  },
  "orig_nbformat": 4,
  "vscode": {
   "interpreter": {
    "hash": "ad62481f5fe99bb8f4c32ecf4e6a1d31e96be2b257af7c55821b4157e8441df9"
   }
  }
 },
 "nbformat": 4,
 "nbformat_minor": 2
}
